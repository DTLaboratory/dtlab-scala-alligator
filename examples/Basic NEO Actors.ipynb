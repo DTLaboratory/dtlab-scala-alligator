{
 "cells": [
  {
   "cell_type": "markdown",
   "metadata": {},
   "source": [
    "# Near Earth Object DtLab Demo\n",
    "\n",
    "The DtLab deployment at https://somind.tech has been loaded with NASA Near Earth Object data.  The data was posted in its raw format downloaded from [NASA](https://api.nasa.gov/) into the [dtlab-ingest](https://somind.tech/dtlab-alligator/doc/dtlab-ingest/) service that in turn extracts DtLab-ready observations and posts then to DtLab - automatically creating a tree of actor-based digital twins for the asteroids (objects) orbiting Earth (orbiting_body).\n",
    "\n",
    "```\n",
    "NASA API ==> DtLab Ingest Service ==> DtLab API ==> Earth DT ==> Asteroid DT 1\n",
    "                                                             ==> Asteroid DT 2\n",
    "                                                             ==> Asteroid DT n\n",
    "                                                                                               ```\n",
    "                                              "
   ]
  },
  {
   "cell_type": "markdown",
   "metadata": {},
   "source": [
    "## Setup\n",
    "\n",
    "Import the `requests` lib to interact with the DtLab API.  Import `json` to pretty-print the json results.\n",
    "\n",
    "The notebook server is co-located with the DtLab system.  While the externally visible service for DtLab is securied with TLS and Auth0-issued tokens - no extra auth is needed if you use the internally visible Kubernetes service name and port.  Set the base of the cluster's internally visable service URL in the `BASE_URL` variable."
   ]
  },
  {
   "cell_type": "code",
   "execution_count": 1,
   "metadata": {},
   "outputs": [],
   "source": [
    "import requests\n",
    "import json\n",
    "headers = {\n",
    "  'Accept': 'application/json'\n",
    "}\n",
    "BASE_URL = \"http://dtlab-scala-alligator.default:8081/dtlab-alligator/\""
   ]
  },
  {
   "cell_type": "markdown",
   "metadata": {},
   "source": [
    "## Look at Type Definitions\n",
    "\n",
    "Retrieve the `orbiting_body` type and see that it has children of type `object`."
   ]
  },
  {
   "cell_type": "code",
   "execution_count": 2,
   "metadata": {
    "scrolled": true
   },
   "outputs": [
    {
     "name": "stdout",
     "output_type": "stream",
     "text": [
      "{\n",
      "  \"children\": [\n",
      "    \"object\"\n",
      "  ],\n",
      "  \"created\": \"2020-11-15T14:56:54.009Z\",\n",
      "  \"name\": \"orbiting_body\"\n",
      "}\n"
     ]
    }
   ],
   "source": [
    "response = requests.get(BASE_URL + 'type/orbiting_body', headers = headers)\n",
    "print(json.dumps(response.json(), indent=2))"
   ]
  },
  {
   "cell_type": "markdown",
   "metadata": {},
   "source": [
    "Retrieve the `object` type definition and see that it has a number of properties related to the location and speed of the asteroid."
   ]
  },
  {
   "cell_type": "code",
   "execution_count": 3,
   "metadata": {},
   "outputs": [
    {
     "name": "stdout",
     "output_type": "stream",
     "text": [
      "{\n",
      "  \"created\": \"2020-11-15T14:56:51.739Z\",\n",
      "  \"name\": \"object\",\n",
      "  \"props\": [\n",
      "    \"absolute_magnitude\",\n",
      "    \"diameter_min\",\n",
      "    \"diameter_max\",\n",
      "    \"miles_per_hour\",\n",
      "    \"distance_in_miles\"\n",
      "  ]\n",
      "}\n"
     ]
    }
   ],
   "source": [
    "response = requests.get(BASE_URL + 'type/object', headers = headers)\n",
    "print(json.dumps(response.json(), indent=2))"
   ]
  },
  {
   "cell_type": "markdown",
   "metadata": {},
   "source": [
    "# Peek at the State of an Actor \n",
    "\n",
    "Retreive the state of a digital twin of one of the asteroids.\n",
    "\n",
    "See that it has 5 different values it is keeping track of and that it knows the time the most recent measurement was logged.\n",
    "\n",
    "The `idx` identifier relates to the zero-indexed position of the property in the type definition.  `idx` of 3 means this is the `miles_per_hour` reading if you consult the `object` type definition above."
   ]
  },
  {
   "cell_type": "code",
   "execution_count": 4,
   "metadata": {},
   "outputs": [
    {
     "name": "stdout",
     "output_type": "stream",
     "text": [
      "[\n",
      "  {\n",
      "    \"datetime\": \"2020-11-15T17:14:37.331Z\",\n",
      "    \"idx\": 0,\n",
      "    \"value\": 34.282\n",
      "  },\n",
      "  {\n",
      "    \"datetime\": \"2020-11-15T17:14:37.332Z\",\n",
      "    \"idx\": 1,\n",
      "    \"value\": 0.3699601753\n",
      "  },\n",
      "  {\n",
      "    \"datetime\": \"2020-11-15T17:14:37.332Z\",\n",
      "    \"idx\": 2,\n",
      "    \"value\": 0.827256101\n",
      "  },\n",
      "  {\n",
      "    \"datetime\": \"2020-11-15T17:14:37.333Z\",\n",
      "    \"idx\": 3,\n",
      "    \"value\": 15096.9310252428\n",
      "  },\n",
      "  {\n",
      "    \"datetime\": \"2020-11-15T17:14:37.334Z\",\n",
      "    \"idx\": 4,\n",
      "    \"value\": 10013.4132206738\n",
      "  }\n",
      "]\n"
     ]
    }
   ],
   "source": [
    "response = requests.get(BASE_URL + 'actor/orbiting_body/earth/object/3799865', headers = headers)\n",
    "print(json.dumps(response.json(), indent=2))"
   ]
  },
  {
   "cell_type": "markdown",
   "metadata": {},
   "source": [
    "The `idx` identifier is tedious to understand - lets use the `format` query param to get a meaningful name with each value."
   ]
  },
  {
   "cell_type": "code",
   "execution_count": 5,
   "metadata": {},
   "outputs": [
    {
     "name": "stdout",
     "output_type": "stream",
     "text": [
      "[\n",
      "  {\n",
      "    \"datetime\": \"2020-11-15T17:14:37.331Z\",\n",
      "    \"name\": \"orbiting_body.earth.object.3799865.absolute_magnitude\",\n",
      "    \"value\": 34.282\n",
      "  },\n",
      "  {\n",
      "    \"datetime\": \"2020-11-15T17:14:37.332Z\",\n",
      "    \"name\": \"orbiting_body.earth.object.3799865.diameter_min\",\n",
      "    \"value\": 0.3699601753\n",
      "  },\n",
      "  {\n",
      "    \"datetime\": \"2020-11-15T17:14:37.332Z\",\n",
      "    \"name\": \"orbiting_body.earth.object.3799865.diameter_max\",\n",
      "    \"value\": 0.827256101\n",
      "  },\n",
      "  {\n",
      "    \"datetime\": \"2020-11-15T17:14:37.333Z\",\n",
      "    \"name\": \"orbiting_body.earth.object.3799865.miles_per_hour\",\n",
      "    \"value\": 15096.9310252428\n",
      "  },\n",
      "  {\n",
      "    \"datetime\": \"2020-11-15T17:14:37.334Z\",\n",
      "    \"name\": \"orbiting_body.earth.object.3799865.distance_in_miles\",\n",
      "    \"value\": 10013.4132206738\n",
      "  }\n",
      "]\n"
     ]
    }
   ],
   "source": [
    "response = requests.get(BASE_URL + 'actor/orbiting_body/earth/object/3799865?format=pathed', headers = headers)\n",
    "print(json.dumps(response.json(), indent=2))"
   ]
  },
  {
   "cell_type": "markdown",
   "metadata": {},
   "source": [
    "The long path as name is great for reading or for processing large collections of objects together but if your application context is just processing one instance of a DT at a time then the short name is easier to consume.  Try the query param for format `named`."
   ]
  },
  {
   "cell_type": "code",
   "execution_count": 6,
   "metadata": {},
   "outputs": [
    {
     "name": "stdout",
     "output_type": "stream",
     "text": [
      "[\n",
      "  {\n",
      "    \"datetime\": \"2020-11-15T17:14:37.331Z\",\n",
      "    \"name\": \"absolute_magnitude\",\n",
      "    \"value\": 34.282\n",
      "  },\n",
      "  {\n",
      "    \"datetime\": \"2020-11-15T17:14:37.332Z\",\n",
      "    \"name\": \"diameter_min\",\n",
      "    \"value\": 0.3699601753\n",
      "  },\n",
      "  {\n",
      "    \"datetime\": \"2020-11-15T17:14:37.332Z\",\n",
      "    \"name\": \"diameter_max\",\n",
      "    \"value\": 0.827256101\n",
      "  },\n",
      "  {\n",
      "    \"datetime\": \"2020-11-15T17:14:37.333Z\",\n",
      "    \"name\": \"miles_per_hour\",\n",
      "    \"value\": 15096.9310252428\n",
      "  },\n",
      "  {\n",
      "    \"datetime\": \"2020-11-15T17:14:37.334Z\",\n",
      "    \"name\": \"distance_in_miles\",\n",
      "    \"value\": 10013.4132206738\n",
      "  }\n",
      "]\n"
     ]
    }
   ],
   "source": [
    "response = requests.get(BASE_URL + 'actor/orbiting_body/earth/object/3799865?format=named', headers = headers)\n",
    "print(json.dumps(response.json(), indent=2))"
   ]
  },
  {
   "cell_type": "code",
   "execution_count": null,
   "metadata": {},
   "outputs": [],
   "source": []
  }
 ],
 "metadata": {
  "kernelspec": {
   "display_name": "Python 3",
   "language": "python",
   "name": "python3"
  },
  "language_info": {
   "codemirror_mode": {
    "name": "ipython",
    "version": 3
   },
   "file_extension": ".py",
   "mimetype": "text/x-python",
   "name": "python",
   "nbconvert_exporter": "python",
   "pygments_lexer": "ipython3",
   "version": "3.7.4"
  }
 },
 "nbformat": 4,
 "nbformat_minor": 4
}
